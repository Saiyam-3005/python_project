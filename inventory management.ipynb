{
 "cells": [
  {
   "cell_type": "code",
   "execution_count": 1,
   "id": "98b53604-14fb-4272-9eb1-6dbf00015de2",
   "metadata": {},
   "outputs": [],
   "source": [
    "import time"
   ]
  },
  {
   "cell_type": "code",
   "execution_count": 26,
   "id": "d970c791-46be-46f8-bd31-8923d0eb7ffb",
   "metadata": {},
   "outputs": [
    {
     "name": "stdout",
     "output_type": "stream",
     "text": [
      "1,5 Star,10,100\n",
      "2,cake,320,114\n",
      "3,cookie,20,21\n",
      "4,pastry,40,0\n",
      "['']\n"
     ]
    }
   ],
   "source": [
    "#file reading\n",
    "f=open('dsa.txt','r')\n",
    "print(f.read())\n",
    "p=f.read().split(\"\\n\")\n",
    "print(p)\n",
    "f.close()"
   ]
  },
  {
   "cell_type": "code",
   "execution_count": 3,
   "id": "ab6af2e7-2a56-4c2b-9625-36e7d7f84bbe",
   "metadata": {},
   "outputs": [
    {
     "name": "stdin",
     "output_type": "stream",
     "text": [
      "ENTER USER NAME      : ee\n",
      "ENTER USER PHONE     : e\n",
      "ENTER USER EMAIL     : we\n",
      "ENTER THE ITEM NAME  : weqe\n",
      "ENTER THE AMOUNT     : qwe\n"
     ]
    },
    {
     "name": "stdout",
     "output_type": "stream",
     "text": [
      "---------------------------------------\n"
     ]
    }
   ],
   "source": [
    "#user input\n",
    "name=input(\"ENTER USER NAME      :\")\n",
    "num=input(\"ENTER USER PHONE     :\")\n",
    "email=input(\"ENTER USER EMAIL     :\")\n",
    "order=input(\"ENTER THE ITEM NAME  :\")\n",
    "qty=input(\"ENTER THE AMOUNT     :\")\n",
    "print(\"---------------------------------------\")"
   ]
  },
  {
   "cell_type": "code",
   "execution_count": 4,
   "id": "8cde8ed5-bc95-454a-ac5a-c5c1ed35d7de",
   "metadata": {},
   "outputs": [],
   "source": [
    "update=[]\n",
    "#logic for bill printing\n",
    "for i in p:\n",
    "    i=i.split(\",\")\n",
    "    if i[1]==order:\n",
    "        if i[3]>=qty:\n",
    "            print(\"PRODUCT NAME        :\"+order)\n",
    "            print(\"PRODUCT QUANTITY    :\"+qty)\n",
    "            print(\"---------------------------------------\")\n",
    "            print(\"GRAND TOTAL         :\",int(qty)*int(i[2]))\n",
    "            print(\"THANK YOU\".center(30))\n",
    "            i[3]=str(int(i[3])-int(qty))\n",
    "            data= name + \",\" + num + \",\" + email + \",\" + order + \",\" + qty + \",\" + str(int(qty)*int(i[2])) + \",\" + time.ctime()+\"\\n\"\n",
    "            o=open(\"data.txt\",\"a\")\n",
    "            o.write(data)\n",
    "            o.close()\n",
    "        else:\n",
    "            print(\"SORRY! REQUIRED AMOUNT IS NOT AVAILAIBLE\")\n",
    "            print(\"TOTAL AMOUNT AVAILABLE:\"+i[3])\n",
    "            c=input(\"ENTER THE CHOICE Y/N:\")\n",
    "            if c==\"Y\":\n",
    "                print(\"---------------------------------------\")\n",
    "                print(\"PRODUCT NAME        :\"+order)\n",
    "                print(\"PRODUCT QUANTITY    :\"+qty)\n",
    "                print(\"---------------------------------------\")\n",
    "                print(\"GRAND TOTAL         :\",int(i[3])*int(i[2]))\n",
    "                print(\"THANK YOU\".center(30))\n",
    "                i[3]=str(0)\n",
    "                data= name+\",\"+num+\",\"+email+\",\"+order+\",\"+qty+\",\"+str(int(i[3])*int(i[2]))+\",\"+time.ctime()+\"\\n\"\n",
    "                o=open(\"data.txt\",\"a\")\n",
    "                o.write(data)\n",
    "                o.close()\n",
    "            else:\n",
    "                print(\"THANK YOU\".center(30))\n",
    "            \n",
    "    update.append(i)"
   ]
  },
  {
   "cell_type": "code",
   "execution_count": 5,
   "id": "a964bf27-d130-4fa9-93f3-b93efc07e74d",
   "metadata": {},
   "outputs": [],
   "source": [
    "#updating the data\n",
    "item=[]\n",
    "for k in update:\n",
    "    p=k[0]+\",\"+k[1]+\",\"+k[2]+\",\"+k[3]+\"\\n\"\n",
    "    item.append(p)\n",
    "item[-1]=item[-1][:-1]"
   ]
  },
  {
   "cell_type": "code",
   "execution_count": 6,
   "id": "0c64d71f-b9db-4b81-bd66-4cb9eda9f190",
   "metadata": {},
   "outputs": [],
   "source": [
    "#updating the file\n",
    "f=open(\"dsa.txt\",\"w\")\n",
    "for j in item:\n",
    "    f.write(j)\n",
    "f.close()"
   ]
  },
  {
   "cell_type": "code",
   "execution_count": null,
   "id": "92702e7d-d919-49ee-855a-e7d7f138ecb3",
   "metadata": {},
   "outputs": [],
   "source": []
  }
 ],
 "metadata": {
  "kernelspec": {
   "display_name": "Python 3 (ipykernel)",
   "language": "python",
   "name": "python3"
  },
  "language_info": {
   "codemirror_mode": {
    "name": "ipython",
    "version": 3
   },
   "file_extension": ".py",
   "mimetype": "text/x-python",
   "name": "python",
   "nbconvert_exporter": "python",
   "pygments_lexer": "ipython3",
   "version": "3.12.4"
  }
 },
 "nbformat": 4,
 "nbformat_minor": 5
}
