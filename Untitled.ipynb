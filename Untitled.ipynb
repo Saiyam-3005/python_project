{
 "cells": [
  {
   "cell_type": "code",
   "execution_count": 15,
   "id": "b8a60859-04d5-4150-ba9e-c6473421aa8b",
   "metadata": {},
   "outputs": [
    {
     "name": "stdin",
     "output_type": "stream",
     "text": [
      "Enter product ID:  3\n",
      "Enter product Quantity:  2\n"
     ]
    },
    {
     "name": "stdout",
     "output_type": "stream",
     "text": [
      "__________________________________________________\n",
      "Product Name : cookie\n",
      "Price : 20\n",
      "Quantity : 2\n",
      "__________________________________________________\n",
      "Billing Amount : 40\n",
      "__________________________________________________\n"
     ]
    },
    {
     "name": "stdin",
     "output_type": "stream",
     "text": [
      "Press Y/N y\n"
     ]
    },
    {
     "name": "stdout",
     "output_type": "stream",
     "text": [
      "__________________________________________________\n",
      "Product Name : cookie\n",
      "Price : 20\n",
      "Quantity : 2\n",
      "__________________________________________________\n",
      "Billing Amount : 40\n",
      "__________________________________________________\n"
     ]
    }
   ],
   "source": [
    "#Reading the inventory\n",
    "fd = open ('dsa.txt','r')\n",
    "products = fd.read().split('\\n')\n",
    "fd.close()\n",
    "\n",
    "#Taking user input\n",
    "ui_prod_id = input(\"Enter product ID: \")\n",
    "ui_prod_qn = input(\"Enter product Quantity: \")\n",
    "\n",
    "updated_product_lst = []\n",
    "\n",
    "#Going through each product in Detail\n",
    "for product in products:\n",
    "\n",
    "    prod_details= product.split(',')\n",
    "\n",
    "    if(prod_details[0] == ui_prod_id):\n",
    "    #Checking if product exists or not\n",
    "\n",
    "        if (int(ui_prod_qn) <= int(prod_details[3])):\n",
    "        #If we have enough quantityng \n",
    "\n",
    "            print(\"_\"*50)\n",
    "            print(\"Product Name :\", prod_details[1])\n",
    "            print(\"Price :\", prod_details[2])\n",
    "            print(\"Quantity :\", ui_prod_qn)\n",
    "            print(\"_\"*50)\n",
    "            print(\"Billing Amount :\", int(ui_prod_qn) * int(prod_details[2]))\n",
    "            print(\"_\"*50)\n",
    "            \n",
    "            prod_details[3] = str(int(prod_details[3]) - int(ui_prod_qn))\n",
    "        else:\n",
    "        #If we have enough quantity\n",
    "            print(\"Sorry, We're not having enough qunatity.\")\n",
    "            print(\"We're having only\",prod_details[3],\"quantity.\")\n",
    "            print(\"Would you like to purchase it?\")\n",
    "        \n",
    "        ch = input(\"Press Y/N\")\n",
    "\n",
    "        if(ch == 'Y' or ch == 'y'):\n",
    "        #If you want to purchase with remaining quantity\n",
    "\n",
    "            print(\"_\"*50)\n",
    "            print(\"Product Name :\", prod_details[1])\n",
    "            print(\"Price :\", prod_details[2])\n",
    "            print(\"Quantity :\", ui_prod_qn)\n",
    "            print(\"_\"*50)\n",
    "            print(\"Billing Amount :\", int(ui_prod_qn) * int(prod_details[2]))\n",
    "            print(\"_\"*50)\n",
    "        \n",
    "            prod_details[3] = '0'\n",
    "        \n",
    "        #Update my inventory list\n",
    "        updated_product_lst.append(prod_details)\n",
    "\n",
    "lst = []\n",
    "\n",
    "#Updating my inventory string\n",
    "for i in updated_product_lst:\n",
    "    prod = i[0] +\",\" + i[1] +\",\"+ i[2] +\",\"+ i[3] + '\\n'\n",
    "    lst.append(prod)\n",
    "\n",
    "lst[-1] = lst[-1][:-1]\n",
    "\n",
    "#updating inventory file\n",
    "fd = open('dsa.txt','w')\n",
    "\n",
    "for i in lst:\n",
    "    fd.write(i)\n",
    "fd.close()\n"
   ]
  },
  {
   "cell_type": "code",
   "execution_count": 17,
   "id": "ffc04fa3-58ba-4c0d-b40f-691fb30aa3a8",
   "metadata": {},
   "outputs": [
    {
     "name": "stdout",
     "output_type": "stream",
     "text": [
      "3,cookie,20,0\n"
     ]
    }
   ],
   "source": [
    "fd = open ('dsa.txt','r')\n",
    "print(fd.read())\n",
    "fd.close()"
   ]
  },
